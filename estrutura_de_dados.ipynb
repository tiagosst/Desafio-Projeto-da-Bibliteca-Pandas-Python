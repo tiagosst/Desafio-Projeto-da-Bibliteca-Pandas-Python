{
  "nbformat": 4,
  "nbformat_minor": 0,
  "metadata": {
    "colab": {
      "provenance": [],
      "collapsed_sections": [],
      "authorship_tag": "ABX9TyOQXzXpaWHGJ6aLlTZK/YdA",
      "include_colab_link": true
    },
    "kernelspec": {
      "name": "python3",
      "display_name": "Python 3"
    },
    "language_info": {
      "name": "python"
    }
  },
  "cells": [
    {
      "cell_type": "markdown",
      "metadata": {
        "id": "view-in-github",
        "colab_type": "text"
      },
      "source": [
        "<a href=\"https://colab.research.google.com/github/tiagosst/Desafio-Projeto-da-Bibliteca-Pandas-Python/blob/main/estrutura_de_dados.ipynb\" target=\"_parent\"><img src=\"https://colab.research.google.com/assets/colab-badge.svg\" alt=\"Open In Colab\"/></a>"
      ]
    },
    {
      "cell_type": "code",
      "source": [
        "# **Curso Python Para Análise de dados** - *Fernanda Santos*\n"
      ],
      "metadata": {
        "id": "v7Z45dAQ8kyH"
      },
      "execution_count": null,
      "outputs": []
    },
    {
      "cell_type": "code",
      "source": [
        "#Criando uma lista chamada carros"
      ],
      "metadata": {
        "id": "BJsQqOFw80G2"
      },
      "execution_count": null,
      "outputs": []
    },
    {
      "cell_type": "code",
      "source": [
        "carros = [1,2,3]"
      ],
      "metadata": {
        "id": "xq_oavpG822e"
      },
      "execution_count": null,
      "outputs": []
    },
    {
      "cell_type": "code",
      "source": [
        "carros"
      ],
      "metadata": {
        "colab": {
          "base_uri": "https://localhost:8080/"
        },
        "id": "nC0d3dZL88Fu",
        "outputId": "9e3c5f76-f2e2-4785-a450-32f752e5ff35"
      },
      "execution_count": null,
      "outputs": [
        {
          "output_type": "execute_result",
          "data": {
            "text/plain": [
              "[1, 2, 3]"
            ]
          },
          "metadata": {},
          "execution_count": 7
        }
      ]
    },
    {
      "cell_type": "code",
      "source": [
        "carros = [\"fiat\", \"ford\", 12345, 6.5]"
      ],
      "metadata": {
        "id": "yysS-w4u89HW"
      },
      "execution_count": null,
      "outputs": []
    },
    {
      "cell_type": "code",
      "source": [
        "carros"
      ],
      "metadata": {
        "colab": {
          "base_uri": "https://localhost:8080/"
        },
        "id": "WrEzixmq9Bo-",
        "outputId": "631f65ef-6170-47c2-e360-6b80b2ac5601"
      },
      "execution_count": null,
      "outputs": [
        {
          "output_type": "execute_result",
          "data": {
            "text/plain": [
              "['fiat', 'ford', 12345, 6.5]"
            ]
          },
          "metadata": {},
          "execution_count": 13
        }
      ]
    },
    {
      "cell_type": "code",
      "source": [
        "#Imprimindo o primeiro elemento da lista"
      ],
      "metadata": {
        "id": "ABqc9K9w9G3m"
      },
      "execution_count": null,
      "outputs": []
    },
    {
      "cell_type": "code",
      "source": [
        "carros[0]"
      ],
      "metadata": {
        "colab": {
          "base_uri": "https://localhost:8080/",
          "height": 36
        },
        "id": "RdN6Ccf09Lne",
        "outputId": "5b852015-d7e8-4d5a-d072-ff5242ad1d63"
      },
      "execution_count": null,
      "outputs": [
        {
          "output_type": "execute_result",
          "data": {
            "text/plain": [
              "'fiat'"
            ],
            "application/vnd.google.colaboratory.intrinsic+json": {
              "type": "string"
            }
          },
          "metadata": {},
          "execution_count": 14
        }
      ]
    },
    {
      "cell_type": "code",
      "source": [
        "carros[3]"
      ],
      "metadata": {
        "colab": {
          "base_uri": "https://localhost:8080/"
        },
        "id": "F-OSsTlR9Oql",
        "outputId": "3dfa52f7-76eb-4343-92b0-09adb7c1bfa7"
      },
      "execution_count": null,
      "outputs": [
        {
          "output_type": "execute_result",
          "data": {
            "text/plain": [
              "6.5"
            ]
          },
          "metadata": {},
          "execution_count": 15
        }
      ]
    },
    {
      "cell_type": "code",
      "source": [
        "#Substituindo primeiro elemento da lista"
      ],
      "metadata": {
        "id": "nySGQM2s9iz2"
      },
      "execution_count": null,
      "outputs": []
    },
    {
      "cell_type": "code",
      "source": [
        "carros[0] = \"escort\""
      ],
      "metadata": {
        "id": "6FB45neD92Sz"
      },
      "execution_count": null,
      "outputs": []
    },
    {
      "cell_type": "code",
      "source": [
        "carros"
      ],
      "metadata": {
        "colab": {
          "base_uri": "https://localhost:8080/"
        },
        "id": "IVIkJQXJ-AMl",
        "outputId": "7c6c61df-b638-45a0-c92c-a1e8eaa2e899"
      },
      "execution_count": null,
      "outputs": [
        {
          "output_type": "execute_result",
          "data": {
            "text/plain": [
              "['escort', 'ford', 12345, 6.5]"
            ]
          },
          "metadata": {},
          "execution_count": 18
        }
      ]
    },
    {
      "cell_type": "code",
      "source": [
        "#Substituir segundo elemento da lista\n",
        "carros[2] = \"f100\""
      ],
      "metadata": {
        "id": "J2jAXVfK-Egt"
      },
      "execution_count": null,
      "outputs": []
    },
    {
      "cell_type": "code",
      "source": [
        "carros"
      ],
      "metadata": {
        "colab": {
          "base_uri": "https://localhost:8080/"
        },
        "id": "OoYax5Hk-Tj-",
        "outputId": "11e96b1c-8187-4244-9d19-626bac2875b6"
      },
      "execution_count": null,
      "outputs": [
        {
          "output_type": "execute_result",
          "data": {
            "text/plain": [
              "['escort', 'ford', 'f100', 6.5]"
            ]
          },
          "metadata": {},
          "execution_count": 20
        }
      ]
    },
    {
      "cell_type": "code",
      "source": [
        "#Removendo elemento da lista"
      ],
      "metadata": {
        "id": "u5HtetRp-VvF"
      },
      "execution_count": null,
      "outputs": []
    },
    {
      "cell_type": "code",
      "source": [
        "carros.remove(6.5)"
      ],
      "metadata": {
        "id": "KM6wgh7--lAG"
      },
      "execution_count": null,
      "outputs": []
    },
    {
      "cell_type": "code",
      "source": [
        "carros"
      ],
      "metadata": {
        "colab": {
          "base_uri": "https://localhost:8080/"
        },
        "id": "pJr0NpvF-uD-",
        "outputId": "0814a041-f67f-4f1d-e020-2b2d6d290c94"
      },
      "execution_count": null,
      "outputs": [
        {
          "output_type": "execute_result",
          "data": {
            "text/plain": [
              "['escort', 'ford', 'f100']"
            ]
          },
          "metadata": {},
          "execution_count": 25
        }
      ]
    },
    {
      "cell_type": "code",
      "source": [
        "#Verificar tamanho da lista"
      ],
      "metadata": {
        "id": "sz7lg_RB_spF"
      },
      "execution_count": null,
      "outputs": []
    },
    {
      "cell_type": "code",
      "source": [
        "len(carros)"
      ],
      "metadata": {
        "colab": {
          "base_uri": "https://localhost:8080/"
        },
        "id": "v5wlo52A_5K9",
        "outputId": "015edbe7-f70c-45c6-a9bb-2f2fabff17ca"
      },
      "execution_count": null,
      "outputs": [
        {
          "output_type": "execute_result",
          "data": {
            "text/plain": [
              "3"
            ]
          },
          "metadata": {},
          "execution_count": 29
        }
      ]
    },
    {
      "cell_type": "code",
      "source": [
        "#Verificar se elemento pertence a lista"
      ],
      "metadata": {
        "id": "-fS7Zr3r_6s9"
      },
      "execution_count": null,
      "outputs": []
    },
    {
      "cell_type": "code",
      "source": [
        "6.5 in carros"
      ],
      "metadata": {
        "colab": {
          "base_uri": "https://localhost:8080/"
        },
        "id": "4FXMEsKEAJLF",
        "outputId": "f42c4667-e74f-4421-fe9b-d42ea7360ec4"
      },
      "execution_count": null,
      "outputs": [
        {
          "output_type": "execute_result",
          "data": {
            "text/plain": [
              "False"
            ]
          },
          "metadata": {},
          "execution_count": 31
        }
      ]
    },
    {
      "cell_type": "code",
      "source": [
        "#criar nova lista"
      ],
      "metadata": {
        "id": "lJZl_gurAO7W"
      },
      "execution_count": null,
      "outputs": []
    },
    {
      "cell_type": "code",
      "source": [
        "#Criando uma nova lista numerica"
      ],
      "metadata": {
        "id": "2yyjZd8nAdNm"
      },
      "execution_count": null,
      "outputs": []
    },
    {
      "cell_type": "code",
      "source": [
        "lista = {1000, 500, 250, 100, 50}"
      ],
      "metadata": {
        "id": "7nJr2gnZAnu-"
      },
      "execution_count": null,
      "outputs": []
    },
    {
      "cell_type": "code",
      "source": [
        "#verificar maior elemento da lista"
      ],
      "metadata": {
        "id": "z1yRXasOAwk2"
      },
      "execution_count": null,
      "outputs": []
    },
    {
      "cell_type": "code",
      "source": [
        "max(lista)"
      ],
      "metadata": {
        "colab": {
          "base_uri": "https://localhost:8080/"
        },
        "id": "_PcQQSV1A5f-",
        "outputId": "1ae29053-c48f-49cc-cd35-f4de606ea084"
      },
      "execution_count": null,
      "outputs": [
        {
          "output_type": "execute_result",
          "data": {
            "text/plain": [
              "1000"
            ]
          },
          "metadata": {},
          "execution_count": 36
        }
      ]
    },
    {
      "cell_type": "code",
      "source": [
        "#verificar menor elemento da lista"
      ],
      "metadata": {
        "id": "KTu5YbgvA8qO"
      },
      "execution_count": null,
      "outputs": []
    },
    {
      "cell_type": "code",
      "source": [
        "min(lista)"
      ],
      "metadata": {
        "colab": {
          "base_uri": "https://localhost:8080/"
        },
        "id": "UAT0UajfBFFt",
        "outputId": "9763e488-7e73-4a5b-b923-2b8d7f7e02d6"
      },
      "execution_count": null,
      "outputs": [
        {
          "output_type": "execute_result",
          "data": {
            "text/plain": [
              "50"
            ]
          },
          "metadata": {},
          "execution_count": 38
        }
      ]
    },
    {
      "cell_type": "code",
      "source": [
        "#adicionar elemento na lista"
      ],
      "metadata": {
        "id": "IJBTu3K1BGdO"
      },
      "execution_count": null,
      "outputs": []
    },
    {
      "cell_type": "code",
      "source": [
        "#lista carros"
      ],
      "metadata": {
        "id": "u3KSQTLhBSaF"
      },
      "execution_count": null,
      "outputs": []
    },
    {
      "cell_type": "code",
      "source": [
        "carros.append(\"fusca\")"
      ],
      "metadata": {
        "id": "lCyjyHpMBWJ-"
      },
      "execution_count": null,
      "outputs": []
    },
    {
      "cell_type": "code",
      "source": [
        "carros"
      ],
      "metadata": {
        "colab": {
          "base_uri": "https://localhost:8080/"
        },
        "id": "O4TxtkBGBer-",
        "outputId": "aaeb1c10-3790-4db4-dea8-f5810779532d"
      },
      "execution_count": null,
      "outputs": [
        {
          "output_type": "execute_result",
          "data": {
            "text/plain": [
              "['escort', 'ford', 'f100', 'fusca']"
            ]
          },
          "metadata": {},
          "execution_count": 42
        }
      ]
    },
    {
      "cell_type": "code",
      "source": [
        "#adiconar mais de um elemento na lista"
      ],
      "metadata": {
        "id": "BAJ-hZBEBgDH"
      },
      "execution_count": null,
      "outputs": []
    },
    {
      "cell_type": "code",
      "source": [
        "carros.extend({\"bmw\", \"corcel\"})"
      ],
      "metadata": {
        "id": "6CahKjc3B4k-"
      },
      "execution_count": null,
      "outputs": []
    },
    {
      "cell_type": "code",
      "source": [
        "carros"
      ],
      "metadata": {
        "colab": {
          "base_uri": "https://localhost:8080/"
        },
        "id": "anEb5SKkFlOP",
        "outputId": "64515df9-e5f5-4049-b3e4-d5fd809e2dde"
      },
      "execution_count": null,
      "outputs": [
        {
          "output_type": "execute_result",
          "data": {
            "text/plain": [
              "['bmw',\n",
              " 'bmw',\n",
              " 'corcel',\n",
              " 'corcel',\n",
              " 'escort',\n",
              " 'f100',\n",
              " 'ford',\n",
              " 'fusca',\n",
              " 'corcel',\n",
              " 'bmw',\n",
              " 'bmw',\n",
              " 'corcel',\n",
              " 'bmw',\n",
              " 'corcel',\n",
              " 'bmw',\n",
              " 'corcel',\n",
              " 'bmw',\n",
              " 'corcel',\n",
              " 'corcel',\n",
              " 'bmw']"
            ]
          },
          "metadata": {},
          "execution_count": 66
        }
      ]
    },
    {
      "cell_type": "code",
      "source": [
        "carros.remove(\"corcel\")"
      ],
      "metadata": {
        "id": "axWw3WZHFr4P"
      },
      "execution_count": null,
      "outputs": []
    },
    {
      "cell_type": "code",
      "source": [
        "carros"
      ],
      "metadata": {
        "colab": {
          "base_uri": "https://localhost:8080/"
        },
        "id": "tYs71MDdF2Hn",
        "outputId": "ca4f772c-18cb-461e-e6ac-e81dcb256f96"
      },
      "execution_count": null,
      "outputs": [
        {
          "output_type": "execute_result",
          "data": {
            "text/plain": [
              "['bmw',\n",
              " 'bmw',\n",
              " 'corcel',\n",
              " 'escort',\n",
              " 'f100',\n",
              " 'ford',\n",
              " 'fusca',\n",
              " 'corcel',\n",
              " 'bmw',\n",
              " 'bmw',\n",
              " 'corcel',\n",
              " 'bmw',\n",
              " 'corcel',\n",
              " 'bmw',\n",
              " 'corcel',\n",
              " 'bmw',\n",
              " 'corcel',\n",
              " 'corcel',\n",
              " 'bmw']"
            ]
          },
          "metadata": {},
          "execution_count": 68
        }
      ]
    },
    {
      "cell_type": "code",
      "source": [
        "carros.remove(\"corcel\")"
      ],
      "metadata": {
        "id": "V92TA-XXF3CW"
      },
      "execution_count": null,
      "outputs": []
    },
    {
      "cell_type": "code",
      "source": [
        "carros"
      ],
      "metadata": {
        "colab": {
          "base_uri": "https://localhost:8080/"
        },
        "id": "EJbe7gCPF__-",
        "outputId": "48829ad0-f36d-4c38-f95a-7916ef98a82c"
      },
      "execution_count": null,
      "outputs": [
        {
          "output_type": "execute_result",
          "data": {
            "text/plain": [
              "['bmw',\n",
              " 'bmw',\n",
              " 'escort',\n",
              " 'f100',\n",
              " 'ford',\n",
              " 'fusca',\n",
              " 'corcel',\n",
              " 'bmw',\n",
              " 'bmw',\n",
              " 'corcel',\n",
              " 'bmw',\n",
              " 'corcel',\n",
              " 'bmw',\n",
              " 'corcel',\n",
              " 'bmw',\n",
              " 'corcel',\n",
              " 'corcel',\n",
              " 'bmw']"
            ]
          },
          "metadata": {},
          "execution_count": 70
        }
      ]
    },
    {
      "cell_type": "code",
      "source": [
        "carros.sort()"
      ],
      "metadata": {
        "id": "El98NiTaGA-O"
      },
      "execution_count": null,
      "outputs": []
    },
    {
      "cell_type": "code",
      "source": [
        "carros"
      ],
      "metadata": {
        "id": "k8_XMuFdGIHO",
        "outputId": "15110289-5ec0-496c-939b-9f6ae9f96662",
        "colab": {
          "base_uri": "https://localhost:8080/"
        }
      },
      "execution_count": null,
      "outputs": [
        {
          "output_type": "execute_result",
          "data": {
            "text/plain": [
              "['bmw',\n",
              " 'bmw',\n",
              " 'bmw',\n",
              " 'bmw',\n",
              " 'bmw',\n",
              " 'bmw',\n",
              " 'bmw',\n",
              " 'bmw',\n",
              " 'corcel',\n",
              " 'corcel',\n",
              " 'corcel',\n",
              " 'corcel',\n",
              " 'corcel',\n",
              " 'corcel',\n",
              " 'escort',\n",
              " 'f100',\n",
              " 'ford',\n",
              " 'fusca']"
            ]
          },
          "metadata": {},
          "execution_count": 72
        }
      ]
    },
    {
      "cell_type": "code",
      "source": [
        "#Estruturas Tupla\n"
      ],
      "metadata": {
        "id": "ylvAB1roGI92"
      },
      "execution_count": null,
      "outputs": []
    },
    {
      "cell_type": "code",
      "source": [
        "#As tuplas usam parenteses como sintaxe\n"
      ],
      "metadata": {
        "id": "WFKv-ZdmqyIZ"
      },
      "execution_count": null,
      "outputs": []
    },
    {
      "cell_type": "code",
      "source": [
        "tp = (\"banana\", \"maçã\", 10, 50)\n",
        "tp"
      ],
      "metadata": {
        "colab": {
          "base_uri": "https://localhost:8080/"
        },
        "id": "8pgCtZpproz_",
        "outputId": "a41d2006-6f16-4aae-842f-2a406fbb54c7"
      },
      "execution_count": null,
      "outputs": [
        {
          "output_type": "execute_result",
          "data": {
            "text/plain": [
              "('banana', 'maçã', 10, 50)"
            ]
          },
          "metadata": {},
          "execution_count": 17
        }
      ]
    },
    {
      "cell_type": "code",
      "source": [
        "#Retornando primeiro elemento"
      ],
      "metadata": {
        "id": "UgX4kb25rrRn"
      },
      "execution_count": null,
      "outputs": []
    },
    {
      "cell_type": "code",
      "source": [
        "tp[0]"
      ],
      "metadata": {
        "colab": {
          "base_uri": "https://localhost:8080/",
          "height": 36
        },
        "id": "ocrRVNHTru9A",
        "outputId": "0a9316f4-5830-4825-d33b-6eeeeccbff42"
      },
      "execution_count": null,
      "outputs": [
        {
          "output_type": "execute_result",
          "data": {
            "text/plain": [
              "'banana'"
            ],
            "application/vnd.google.colaboratory.intrinsic+json": {
              "type": "string"
            }
          },
          "metadata": {},
          "execution_count": 18
        }
      ]
    },
    {
      "cell_type": "code",
      "source": [
        "#Diferentes das listas as tupla são imutaveis, o que dizer não podemos alterar seus elementos"
      ],
      "metadata": {
        "id": "dtq68p4LrxZ4"
      },
      "execution_count": null,
      "outputs": []
    },
    {
      "cell_type": "code",
      "source": [
        "tp[0] = \"laranja\""
      ],
      "metadata": {
        "colab": {
          "base_uri": "https://localhost:8080/",
          "height": 165
        },
        "id": "y4aGwDylsb4A",
        "outputId": "2e284bc9-8001-4f72-f892-0fa87fb9426e"
      },
      "execution_count": null,
      "outputs": [
        {
          "output_type": "error",
          "ename": "TypeError",
          "evalue": "ignored",
          "traceback": [
            "\u001b[0;31m---------------------------------------------------------------------------\u001b[0m",
            "\u001b[0;31mTypeError\u001b[0m                                 Traceback (most recent call last)",
            "\u001b[0;32m<ipython-input-20-a103dc83a21e>\u001b[0m in \u001b[0;36m<module>\u001b[0;34m\u001b[0m\n\u001b[0;32m----> 1\u001b[0;31m \u001b[0mtp\u001b[0m\u001b[0;34m[\u001b[0m\u001b[0;36m0\u001b[0m\u001b[0;34m]\u001b[0m \u001b[0;34m=\u001b[0m \u001b[0;34m\"laranja\"\u001b[0m\u001b[0;34m\u001b[0m\u001b[0;34m\u001b[0m\u001b[0m\n\u001b[0m",
            "\u001b[0;31mTypeError\u001b[0m: 'tuple' object does not support item assignment"
          ]
        }
      ]
    },
    {
      "cell_type": "code",
      "source": [
        "tp.count(\"maçã\")"
      ],
      "metadata": {
        "colab": {
          "base_uri": "https://localhost:8080/"
        },
        "id": "k94uok4UsieY",
        "outputId": "0671d303-7c58-42f1-ac45-f8d8c3118b34"
      },
      "execution_count": null,
      "outputs": [
        {
          "output_type": "execute_result",
          "data": {
            "text/plain": [
              "1"
            ]
          },
          "metadata": {},
          "execution_count": 21
        }
      ]
    },
    {
      "cell_type": "code",
      "source": [
        "tp[0:2]"
      ],
      "metadata": {
        "colab": {
          "base_uri": "https://localhost:8080/"
        },
        "id": "hJM-hRZ2s_UD",
        "outputId": "ae9c1127-2c38-4ecd-f74f-748e9dcbf27f"
      },
      "execution_count": null,
      "outputs": [
        {
          "output_type": "execute_result",
          "data": {
            "text/plain": [
              "('banana', 'maçã')"
            ]
          },
          "metadata": {},
          "execution_count": 22
        }
      ]
    },
    {
      "cell_type": "markdown",
      "source": [
        "**DICIONÁRIOS**"
      ],
      "metadata": {
        "id": "h9x_Rsv5tZhL"
      }
    },
    {
      "cell_type": "code",
      "source": [
        "#Para criar um dicionario ultilizamos as {}"
      ],
      "metadata": {
        "id": "Yxn9oElgtfC6"
      },
      "execution_count": null,
      "outputs": []
    },
    {
      "cell_type": "code",
      "source": [
        "dc = {\"maçã\": 20, \"laranja\": 10, \"banana\": 15, \"uva\": 5}"
      ],
      "metadata": {
        "id": "6tKJITVqtsrg"
      },
      "execution_count": null,
      "outputs": []
    },
    {
      "cell_type": "code",
      "source": [
        "dc"
      ],
      "metadata": {
        "colab": {
          "base_uri": "https://localhost:8080/"
        },
        "id": "UA1R_cr6uGK4",
        "outputId": "8e847b8d-73db-42c6-8a64-1eea0c928e64"
      },
      "execution_count": null,
      "outputs": [
        {
          "output_type": "execute_result",
          "data": {
            "text/plain": [
              "{'maçã': 20, 'laranja': 10, 'banana': 15, 'uva': 5}"
            ]
          },
          "metadata": {},
          "execution_count": 26
        }
      ]
    },
    {
      "cell_type": "code",
      "source": [
        "#Adicionando o valor de um dicionário atraves da chave"
      ],
      "metadata": {
        "id": "Ng4wO-1vuHEY"
      },
      "execution_count": null,
      "outputs": []
    },
    {
      "cell_type": "code",
      "source": [
        "dc[\"maçã\"]"
      ],
      "metadata": {
        "colab": {
          "base_uri": "https://localhost:8080/"
        },
        "id": "AAa8dyqGuUjQ",
        "outputId": "7faebe62-a684-4d21-fbef-24723f150635"
      },
      "execution_count": null,
      "outputs": [
        {
          "output_type": "execute_result",
          "data": {
            "text/plain": [
              "20"
            ]
          },
          "metadata": {},
          "execution_count": 29
        }
      ]
    },
    {
      "cell_type": "code",
      "source": [
        "#Atualizando o valor da maçã"
      ],
      "metadata": {
        "id": "GnZD2eb_uYAI"
      },
      "execution_count": null,
      "outputs": []
    },
    {
      "cell_type": "code",
      "source": [
        "dc[\"maçã\"] = 25"
      ],
      "metadata": {
        "id": "Z4eNKDaXvaVA"
      },
      "execution_count": null,
      "outputs": []
    },
    {
      "cell_type": "code",
      "source": [
        "dc"
      ],
      "metadata": {
        "colab": {
          "base_uri": "https://localhost:8080/"
        },
        "id": "2deyFi01vfQZ",
        "outputId": "2ad42324-6a7b-43ce-c096-f23ac1aebaac"
      },
      "execution_count": null,
      "outputs": [
        {
          "output_type": "execute_result",
          "data": {
            "text/plain": [
              "{'maçã': 25, 'laranja': 10, 'banana': 15, 'uva': 5}"
            ]
          },
          "metadata": {},
          "execution_count": 36
        }
      ]
    },
    {
      "cell_type": "code",
      "source": [
        "#retornando todas as chaves do dicionário"
      ],
      "metadata": {
        "id": "e5QYPFufvgPJ"
      },
      "execution_count": null,
      "outputs": []
    },
    {
      "cell_type": "code",
      "source": [
        "dc.keys()"
      ],
      "metadata": {
        "colab": {
          "base_uri": "https://localhost:8080/"
        },
        "id": "x6mDPdhbv0xC",
        "outputId": "99a93f35-327a-4e4e-9a82-4aac40399742"
      },
      "execution_count": null,
      "outputs": [
        {
          "output_type": "execute_result",
          "data": {
            "text/plain": [
              "dict_keys(['maçã', 'laranja', 'banana', 'uva'])"
            ]
          },
          "metadata": {},
          "execution_count": 38
        }
      ]
    },
    {
      "cell_type": "code",
      "source": [
        "#Retornando valores do dicionário"
      ],
      "metadata": {
        "id": "lTIrtNQbv4d4"
      },
      "execution_count": null,
      "outputs": []
    },
    {
      "cell_type": "code",
      "source": [
        "dc.values()"
      ],
      "metadata": {
        "colab": {
          "base_uri": "https://localhost:8080/"
        },
        "id": "fZUgjw1Rv-Vg",
        "outputId": "9c7107a7-f0d4-413b-e38b-6b4d2f54d01a"
      },
      "execution_count": null,
      "outputs": [
        {
          "output_type": "execute_result",
          "data": {
            "text/plain": [
              "dict_values([25, 10, 15, 5])"
            ]
          },
          "metadata": {},
          "execution_count": 40
        }
      ]
    },
    {
      "cell_type": "code",
      "source": [
        "#Verificando se já existe uma chave dicionário e caso não exita inserir"
      ],
      "metadata": {
        "id": "2bI-kYEgwKP7"
      },
      "execution_count": null,
      "outputs": []
    },
    {
      "cell_type": "code",
      "source": [
        "dc.setdefault(\"limão\", 22)"
      ],
      "metadata": {
        "colab": {
          "base_uri": "https://localhost:8080/"
        },
        "id": "x-zbKeP3wwFp",
        "outputId": "de556588-3302-4529-d4a4-6a04991bc14a"
      },
      "execution_count": null,
      "outputs": [
        {
          "output_type": "execute_result",
          "data": {
            "text/plain": [
              "22"
            ]
          },
          "metadata": {},
          "execution_count": 42
        }
      ]
    },
    {
      "cell_type": "code",
      "source": [
        "dc"
      ],
      "metadata": {
        "colab": {
          "base_uri": "https://localhost:8080/"
        },
        "id": "R8ac8cqDw4rQ",
        "outputId": "efbffa8e-a365-462c-aa1a-ff78885e23ba"
      },
      "execution_count": null,
      "outputs": [
        {
          "output_type": "execute_result",
          "data": {
            "text/plain": [
              "{'maçã': 25, 'laranja': 10, 'banana': 15, 'uva': 5, 'limão': 22}"
            ]
          },
          "metadata": {},
          "execution_count": 43
        }
      ]
    },
    {
      "cell_type": "code",
      "source": [],
      "metadata": {
        "id": "WQ8yPchExBUY"
      },
      "execution_count": null,
      "outputs": []
    }
  ]
}